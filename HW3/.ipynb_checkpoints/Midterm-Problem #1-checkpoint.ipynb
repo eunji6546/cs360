{
 "cells": [
  {
   "cell_type": "code",
   "execution_count": 2,
   "metadata": {
    "ExecuteTime": {
     "end_time": "2017-04-24T02:44:08.744654",
     "start_time": "2017-04-24T11:44:07.877509+09:00"
    },
    "collapsed": false
   },
   "outputs": [
    {
     "name": "stderr",
     "output_type": "stream",
     "text": [
      "/Users/heoeunji/anaconda/lib/python3.6/site-packages/IPython/config.py:13: ShimWarning: The `IPython.config` package has been deprecated. You should import from traitlets.config instead.\n",
      "  \"You should import from traitlets.config instead.\", ShimWarning)\n",
      "/Users/heoeunji/anaconda/lib/python3.6/site-packages/IPython/utils/traitlets.py:5: UserWarning: IPython.utils.traitlets has moved to a top-level traitlets package.\n",
      "  warn(\"IPython.utils.traitlets has moved to a top-level traitlets package.\")\n"
     ]
    },
    {
     "data": {
      "text/plain": [
       "'Connected: None@midterm.db'"
      ]
     },
     "execution_count": 2,
     "metadata": {},
     "output_type": "execute_result"
    }
   ],
   "source": [
    "%load_ext sql\n",
    "%sql sqlite:///midterm.db"
   ]
  },
  {
   "cell_type": "markdown",
   "metadata": {},
   "source": [
    "## CS360 2017S Midterm - Problem #1\n",
    "\n",
    "Figure 1 shows the schema and data for a sample database containing information  concerning suppliers (`S`), part (`P`), and project (`J`). Suppliers, parts, and projects are  uniquely identified by supplier number (`S#`), part number (`P#`), and project number  (`J#`),  respectively.  The  significance  of  an  SPJ  record  is  that  the  specified  supplier  supplies  the  specified  part  to  the  specified  project  in  the  specified  quantity  (and  the  combination  `S#_P#_J#`  uniquely  identified  such  a  record).  Write  SQL  statements for the following.\n",
    "\n",
    "```\n",
    "S (S#, SNAME, STATUS, CITY)\n",
    "P (P#, PNAME, COLOR, WEIGHT, CITY) J (J#, JNAME, CITY)\n",
    "SPJ (S#, P#, J#, QTY)\n",
    "```\n",
    "\n",
    "![Figure 1. The suppliers-parts-projects database.](./Midterm-Figure1.png)"
   ]
  },
  {
   "cell_type": "markdown",
   "metadata": {},
   "source": [
    "---\n",
    "\n",
    "**1)** Define a relation `SPJ` schema for this database. \n",
    "\n",
    "Example:\n",
    "```sql\n",
    "CREATE TABLE S (\n",
    "    S# CAHR(5) PRIMARY KEY NOT NULL, SNAME TEXT NOT NULL,\n",
    "    STATUS INT,\n",
    "    CITY CHAR(20)\n",
    ");\n",
    "```"
   ]
  },
  {
   "cell_type": "code",
   "execution_count": 129,
   "metadata": {
    "collapsed": false
   },
   "outputs": [
    {
     "name": "stdout",
     "output_type": "stream",
     "text": [
      "1 rows affected.\n",
      "1 rows affected.\n"
     ]
    },
    {
     "data": {
      "text/plain": [
       "[]"
      ]
     },
     "execution_count": 129,
     "metadata": {},
     "output_type": "execute_result"
    }
   ],
   "source": [
    "%%sql\n",
    "DROP TABLE IF EXISTS `SPJ`;\n",
    "CREATE TABLE SPJ(\n",
    "    'S#' CHAR(5) NOT NULL, \n",
    "    'P#'  CHAR(5) NOT NULL,\n",
    "    'J#' CHAR(5) NOT NULL,\n",
    "    'QTY' integer,\n",
    "      FOREIGN KEY(\"S#\") REFERENCES S(\"S#\"),\n",
    "      FOREIGN KEY(\"P#\") REFERENCES P(\"P#\"),\n",
    "      FOREIGN KEY(\"J#\") REFERENCES J(\"J#\")\n",
    "\n",
    "    )\n"
   ]
  },
  {
   "cell_type": "markdown",
   "metadata": {},
   "source": [
    "```\n",
    "DO NOT MODIFY SQL BELOW!!!\n",
    "Execute SQL after defining the SPJ relation.\n",
    "```"
   ]
  },
  {
   "cell_type": "code",
   "execution_count": 130,
   "metadata": {
    "collapsed": false
   },
   "outputs": [
    {
     "name": "stdout",
     "output_type": "stream",
     "text": [
      "23 rows affected.\n"
     ]
    },
    {
     "data": {
      "text/plain": [
       "[]"
      ]
     },
     "execution_count": 130,
     "metadata": {},
     "output_type": "execute_result"
    }
   ],
   "source": [
    "%%sql\n",
    "INSERT INTO SPJ (\"S#\", \"P#\", \"J#\", QTY) VALUES \n",
    "    ('S1', 'P1', 'J1', 200),\n",
    "    ('S1', 'P1', 'J4', 700),\n",
    "    ('S2', 'P3', 'J1', 400),\n",
    "    ('S2', 'P3', 'J2', 200),\n",
    "    ('S2', 'P3', 'J3', 200),\n",
    "    ('S2', 'P3', 'J4', 500),\n",
    "    ('S2', 'P3', 'J5', 600),\n",
    "    ('S2', 'P3', 'J6', 400),\n",
    "    ('S2', 'P3', 'J7', 800),\n",
    "    ('S2', 'P5', 'J2', 100),\n",
    "    ('S3', 'P3', 'J1', 200),\n",
    "    ('S3', 'P4', 'J2', 500),\n",
    "    ('S4', 'P6', 'J3', 300),\n",
    "    ('S4', 'P6', 'J7', 300),\n",
    "    ('S5', 'P2', 'J2', 200),\n",
    "    ('S5', 'P2', 'J4', 100),\n",
    "    ('S5', 'P5', 'J5', 500),\n",
    "    ('S5', 'P5', 'J7', 100),\n",
    "    ('S5', 'P6', 'J2', 200),\n",
    "    ('S5', 'P1', 'J4', 1000),\n",
    "    ('S5', 'P3', 'J4', 1200),\n",
    "    ('S5', 'P4', 'J4', 800),\n",
    "    ('S5', 'P5', 'J4', 400);"
   ]
  },
  {
   "cell_type": "markdown",
   "metadata": {},
   "source": [
    "**2)** Insert a tuple (“`S5`”, “`P6`”, “`J4`”, `500`) into `SPJ` relation."
   ]
  },
  {
   "cell_type": "code",
   "execution_count": 117,
   "metadata": {
    "collapsed": false
   },
   "outputs": [
    {
     "name": "stdout",
     "output_type": "stream",
     "text": [
      "1 rows affected.\n"
     ]
    },
    {
     "data": {
      "text/plain": [
       "[]"
      ]
     },
     "execution_count": 117,
     "metadata": {},
     "output_type": "execute_result"
    }
   ],
   "source": [
    "%%sql\n",
    "INSERT INTO SPJ VALUES ('S5','P6','J4',500);\n"
   ]
  },
  {
   "cell_type": "markdown",
   "metadata": {},
   "source": [
    "**3)** Change the color of all “red” parts to “orange”."
   ]
  },
  {
   "cell_type": "code",
   "execution_count": null,
   "metadata": {
    "collapsed": true
   },
   "outputs": [],
   "source": [
    "%%sql\n",
    "UPDATE P \n",
    "SET color = 'Orange'\n",
    "WHERE color = 'Red';"
   ]
  },
  {
   "cell_type": "markdown",
   "metadata": {},
   "source": [
    "**4)** Delete all “red” parts and corresponding `SPJ` records."
   ]
  },
  {
   "cell_type": "code",
   "execution_count": null,
   "metadata": {
    "collapsed": true
   },
   "outputs": [],
   "source": [
    "%%sql\n",
    "DELETE FROM SPJ\n",
    "WHERE SPJ.'P#' IN ( SELECT 'P#' FROM P WHERE P.COLOR = 'Red');"
   ]
  },
  {
   "cell_type": "markdown",
   "metadata": {},
   "source": [
    "**5)** Get full details (the values of all attributes) of all projects."
   ]
  },
  {
   "cell_type": "code",
   "execution_count": 118,
   "metadata": {
    "collapsed": false
   },
   "outputs": [
    {
     "name": "stdout",
     "output_type": "stream",
     "text": [
      "Done.\n"
     ]
    },
    {
     "data": {
      "text/html": [
       "<table>\n",
       "    <tr>\n",
       "        <th>J#</th>\n",
       "        <th>JNAME</th>\n",
       "        <th>CITY</th>\n",
       "    </tr>\n",
       "    <tr>\n",
       "        <td>J1</td>\n",
       "        <td>Sorter</td>\n",
       "        <td>Paris</td>\n",
       "    </tr>\n",
       "    <tr>\n",
       "        <td>J2</td>\n",
       "        <td>Punch</td>\n",
       "        <td>Rome</td>\n",
       "    </tr>\n",
       "    <tr>\n",
       "        <td>J3</td>\n",
       "        <td>Reader</td>\n",
       "        <td>Athens</td>\n",
       "    </tr>\n",
       "    <tr>\n",
       "        <td>J4</td>\n",
       "        <td>Console</td>\n",
       "        <td>Athens</td>\n",
       "    </tr>\n",
       "    <tr>\n",
       "        <td>J5</td>\n",
       "        <td>Collator</td>\n",
       "        <td>London</td>\n",
       "    </tr>\n",
       "    <tr>\n",
       "        <td>J6</td>\n",
       "        <td>Terminal</td>\n",
       "        <td>Oslo</td>\n",
       "    </tr>\n",
       "    <tr>\n",
       "        <td>J7</td>\n",
       "        <td>Tape</td>\n",
       "        <td>London</td>\n",
       "    </tr>\n",
       "</table>"
      ],
      "text/plain": [
       "[('J1', 'Sorter', 'Paris'),\n",
       " ('J2', 'Punch', 'Rome'),\n",
       " ('J3', 'Reader', 'Athens'),\n",
       " ('J4', 'Console', 'Athens'),\n",
       " ('J5', 'Collator', 'London'),\n",
       " ('J6', 'Terminal', 'Oslo'),\n",
       " ('J7', 'Tape', 'London')]"
      ]
     },
     "execution_count": 118,
     "metadata": {},
     "output_type": "execute_result"
    }
   ],
   "source": [
    "%%sql\n",
    "Select * From J"
   ]
  },
  {
   "cell_type": "markdown",
   "metadata": {},
   "source": [
    "**6)** Get full details (the values of all attributes) of all projects in London."
   ]
  },
  {
   "cell_type": "code",
   "execution_count": 119,
   "metadata": {
    "collapsed": false
   },
   "outputs": [
    {
     "name": "stdout",
     "output_type": "stream",
     "text": [
      "Done.\n"
     ]
    },
    {
     "data": {
      "text/html": [
       "<table>\n",
       "    <tr>\n",
       "        <th>J#</th>\n",
       "        <th>JNAME</th>\n",
       "        <th>CITY</th>\n",
       "    </tr>\n",
       "    <tr>\n",
       "        <td>J5</td>\n",
       "        <td>Collator</td>\n",
       "        <td>London</td>\n",
       "    </tr>\n",
       "    <tr>\n",
       "        <td>J7</td>\n",
       "        <td>Tape</td>\n",
       "        <td>London</td>\n",
       "    </tr>\n",
       "</table>"
      ],
      "text/plain": [
       "[('J5', 'Collator', 'London'), ('J7', 'Tape', 'London')]"
      ]
     },
     "execution_count": 119,
     "metadata": {},
     "output_type": "execute_result"
    }
   ],
   "source": [
    "%%sql\n",
    "Select * From J Where J.'CITY'='London'"
   ]
  },
  {
   "cell_type": "markdown",
   "metadata": {},
   "source": [
    "**7)** Find project name (`JNAME`) for projects supplied by supplier “`S1`”."
   ]
  },
  {
   "cell_type": "code",
   "execution_count": 121,
   "metadata": {
    "collapsed": false
   },
   "outputs": [
    {
     "name": "stdout",
     "output_type": "stream",
     "text": [
      "Done.\n"
     ]
    },
    {
     "data": {
      "text/html": [
       "<table>\n",
       "    <tr>\n",
       "        <th>JNAME</th>\n",
       "    </tr>\n",
       "    <tr>\n",
       "        <td>Sorter</td>\n",
       "    </tr>\n",
       "    <tr>\n",
       "        <td>Console</td>\n",
       "    </tr>\n",
       "</table>"
      ],
      "text/plain": [
       "[('Sorter',), ('Console',)]"
      ]
     },
     "execution_count": 121,
     "metadata": {},
     "output_type": "execute_result"
    }
   ],
   "source": [
    "%%sql\n",
    "Select  DISTINCT j.JNAME From J as 'j', SPJ as 'spj' Where spj.'S#'='S1' and spj.'J#' = j.'J#'"
   ]
  },
  {
   "cell_type": "markdown",
   "metadata": {},
   "source": [
    "**8)** Find supplier number (`S#`) for suppliers who supply a “London” or “Paris” project with a red part."
   ]
  },
  {
   "cell_type": "code",
   "execution_count": 122,
   "metadata": {
    "collapsed": false
   },
   "outputs": [
    {
     "name": "stdout",
     "output_type": "stream",
     "text": [
      "Done.\n"
     ]
    },
    {
     "data": {
      "text/html": [
       "<table>\n",
       "    <tr>\n",
       "        <th>supplier number</th>\n",
       "    </tr>\n",
       "    <tr>\n",
       "        <td>S1</td>\n",
       "    </tr>\n",
       "    <tr>\n",
       "        <td>S3</td>\n",
       "    </tr>\n",
       "    <tr>\n",
       "        <td>S4</td>\n",
       "    </tr>\n",
       "</table>"
      ],
      "text/plain": [
       "[('S1',), ('S3',), ('S4',)]"
      ]
     },
     "execution_count": 122,
     "metadata": {},
     "output_type": "execute_result"
    }
   ],
   "source": [
    "%%sql\n",
    "Select DISTINCT lpsuppl.'S#' as 'supplier number'\n",
    "From (Select * From P Where COLOR = 'Red' ) as 'redpart', \n",
    "    (Select * From S Where CITY = 'London' or CITY = 'Paris') as 'lpsuppl',\n",
    "    SPJ as 'spj'\n",
    "WHERE lpsuppl.'S#' = spj.'S#' and redpart.'P#' = spj.'P#';"
   ]
  },
  {
   "cell_type": "markdown",
   "metadata": {},
   "source": [
    "**9)** Find project number (`J#`) for projects supplied by a least one supplier not in the same city."
   ]
  },
  {
   "cell_type": "code",
   "execution_count": 123,
   "metadata": {
    "collapsed": false
   },
   "outputs": [
    {
     "name": "stdout",
     "output_type": "stream",
     "text": [
      "Done.\n"
     ]
    },
    {
     "data": {
      "text/html": [
       "<table>\n",
       "    <tr>\n",
       "        <th>J#</th>\n",
       "    </tr>\n",
       "    <tr>\n",
       "        <td>J1</td>\n",
       "    </tr>\n",
       "    <tr>\n",
       "        <td>J4</td>\n",
       "    </tr>\n",
       "    <tr>\n",
       "        <td>J2</td>\n",
       "    </tr>\n",
       "    <tr>\n",
       "        <td>J3</td>\n",
       "    </tr>\n",
       "    <tr>\n",
       "        <td>J5</td>\n",
       "    </tr>\n",
       "    <tr>\n",
       "        <td>J6</td>\n",
       "    </tr>\n",
       "    <tr>\n",
       "        <td>J7</td>\n",
       "    </tr>\n",
       "</table>"
      ],
      "text/plain": [
       "[('J1',), ('J4',), ('J2',), ('J3',), ('J5',), ('J6',), ('J7',)]"
      ]
     },
     "execution_count": 123,
     "metadata": {},
     "output_type": "execute_result"
    }
   ],
   "source": [
    "%%sql\n",
    "Select DISTINCT spj.'J#'\n",
    "From SPJ as 'spj' \n",
    "Where (SELECT s.CITY From S as 's' Where spj.'S#'=s.'S#') \n",
    "    <> (SELECT j.CITY From J as 'j' Where spj.'J#'=j.'J#');"
   ]
  },
  {
   "cell_type": "markdown",
   "metadata": {},
   "source": [
    "**10)** Find supplier number (`S#`) for suppliers supplying at least one part supplied by at least one supplier who supplies at least one “red” part."
   ]
  },
  {
   "cell_type": "code",
   "execution_count": 124,
   "metadata": {
    "collapsed": false
   },
   "outputs": [
    {
     "name": "stdout",
     "output_type": "stream",
     "text": [
      "Done.\n"
     ]
    },
    {
     "data": {
      "text/html": [
       "<table>\n",
       "    <tr>\n",
       "        <th>S#</th>\n",
       "    </tr>\n",
       "    <tr>\n",
       "        <td>S1</td>\n",
       "    </tr>\n",
       "    <tr>\n",
       "        <td>S3</td>\n",
       "    </tr>\n",
       "    <tr>\n",
       "        <td>S4</td>\n",
       "    </tr>\n",
       "    <tr>\n",
       "        <td>S5</td>\n",
       "    </tr>\n",
       "</table>"
      ],
      "text/plain": [
       "[('S1',), ('S3',), ('S4',), ('S5',)]"
      ]
     },
     "execution_count": 124,
     "metadata": {},
     "output_type": "execute_result"
    }
   ],
   "source": [
    "%%sql\n",
    "Select DISTINCT spj.'S#'\n",
    "From SPJ as 'spj'\n",
    "WHERE spj.'P#' \n",
    "    in (Select spj2.'P#'\n",
    "       From SPJ as 'spj2'\n",
    "       Where spj2.'S#' = spj.'S#' and spj2.'S#' \n",
    "            in (Select spj3.'S#'\n",
    "               From SPJ as 'spj3'\n",
    "               Where spj3.'P#' in (Select p1.'P#'\n",
    "                                  From P as 'p1'\n",
    "                                  Where p1.COLOR = 'Red')))  ;"
   ]
  },
  {
   "cell_type": "markdown",
   "metadata": {},
   "source": [
    "**11)** Find project number (`J#`) for projects using at least one part available from \n",
    "supplier “`S1`”."
   ]
  },
  {
   "cell_type": "code",
   "execution_count": 125,
   "metadata": {
    "collapsed": false
   },
   "outputs": [
    {
     "name": "stdout",
     "output_type": "stream",
     "text": [
      "Done.\n"
     ]
    },
    {
     "data": {
      "text/html": [
       "<table>\n",
       "    <tr>\n",
       "        <th>J#</th>\n",
       "    </tr>\n",
       "    <tr>\n",
       "        <td>J1</td>\n",
       "    </tr>\n",
       "    <tr>\n",
       "        <td>J4</td>\n",
       "    </tr>\n",
       "</table>"
      ],
      "text/plain": [
       "[('J1',), ('J4',)]"
      ]
     },
     "execution_count": 125,
     "metadata": {},
     "output_type": "execute_result"
    }
   ],
   "source": [
    "%%sql\n",
    "Select DISTINCT spj.'J#'\n",
    "From SPJ as 'spj'\n",
    "Where spj.'P#' in (Select spj2.'P#'\n",
    "                  From SPJ as 'spj2'\n",
    "                  Where spj2.'S#'='S1');"
   ]
  },
  {
   "cell_type": "markdown",
   "metadata": {},
   "source": [
    "**12)** Find  supplier  number  (`S#`)  for  suppliers  who  supply  the  same  part  to  all \n",
    "projects."
   ]
  },
  {
   "cell_type": "code",
   "execution_count": 126,
   "metadata": {
    "collapsed": false
   },
   "outputs": [
    {
     "name": "stdout",
     "output_type": "stream",
     "text": [
      "Done.\n"
     ]
    },
    {
     "data": {
      "text/html": [
       "<table>\n",
       "    <tr>\n",
       "        <th>S#</th>\n",
       "    </tr>\n",
       "    <tr>\n",
       "        <td>S2</td>\n",
       "    </tr>\n",
       "</table>"
      ],
      "text/plain": [
       "[('S2',)]"
      ]
     },
     "execution_count": 126,
     "metadata": {},
     "output_type": "execute_result"
    }
   ],
   "source": [
    "%%sql\n",
    "Select DISTINCT s.'S#'\n",
    "From S as 's'\n",
    "Where EXISTS (\n",
    "            Select *\n",
    "            From P as 'p'\n",
    "            Where not EXISTS ( Select * From J as 'j' \n",
    "                                 Where NOT EXISTS ( Select * From SPJ as 'spj'\n",
    "                                                  Where spj.'J#'=j.\"J#\" and spj.\"P#\" = p.\"P#\" and spj.\"S#\" = s.\"S#\")));"
   ]
  },
  {
   "cell_type": "markdown",
   "metadata": {},
   "source": [
    "**13)** For each project, get the part number and the total quantity supplied of \n",
    "that part."
   ]
  },
  {
   "cell_type": "code",
   "execution_count": 136,
   "metadata": {
    "collapsed": false
   },
   "outputs": [
    {
     "name": "stdout",
     "output_type": "stream",
     "text": [
      "Done.\n"
     ]
    },
    {
     "data": {
      "text/html": [
       "<table>\n",
       "    <tr>\n",
       "        <th>J#</th>\n",
       "        <th>P#</th>\n",
       "        <th>sum(spj.QTY)</th>\n",
       "    </tr>\n",
       "    <tr>\n",
       "        <td>J1</td>\n",
       "        <td>P1</td>\n",
       "        <td>200</td>\n",
       "    </tr>\n",
       "    <tr>\n",
       "        <td>J1</td>\n",
       "        <td>P3</td>\n",
       "        <td>600</td>\n",
       "    </tr>\n",
       "    <tr>\n",
       "        <td>J2</td>\n",
       "        <td>P2</td>\n",
       "        <td>200</td>\n",
       "    </tr>\n",
       "    <tr>\n",
       "        <td>J2</td>\n",
       "        <td>P3</td>\n",
       "        <td>200</td>\n",
       "    </tr>\n",
       "    <tr>\n",
       "        <td>J2</td>\n",
       "        <td>P4</td>\n",
       "        <td>500</td>\n",
       "    </tr>\n",
       "    <tr>\n",
       "        <td>J2</td>\n",
       "        <td>P5</td>\n",
       "        <td>100</td>\n",
       "    </tr>\n",
       "    <tr>\n",
       "        <td>J2</td>\n",
       "        <td>P6</td>\n",
       "        <td>200</td>\n",
       "    </tr>\n",
       "    <tr>\n",
       "        <td>J3</td>\n",
       "        <td>P3</td>\n",
       "        <td>200</td>\n",
       "    </tr>\n",
       "    <tr>\n",
       "        <td>J3</td>\n",
       "        <td>P6</td>\n",
       "        <td>300</td>\n",
       "    </tr>\n",
       "    <tr>\n",
       "        <td>J4</td>\n",
       "        <td>P1</td>\n",
       "        <td>1700</td>\n",
       "    </tr>\n",
       "    <tr>\n",
       "        <td>J4</td>\n",
       "        <td>P2</td>\n",
       "        <td>100</td>\n",
       "    </tr>\n",
       "    <tr>\n",
       "        <td>J4</td>\n",
       "        <td>P3</td>\n",
       "        <td>1700</td>\n",
       "    </tr>\n",
       "    <tr>\n",
       "        <td>J4</td>\n",
       "        <td>P4</td>\n",
       "        <td>800</td>\n",
       "    </tr>\n",
       "    <tr>\n",
       "        <td>J4</td>\n",
       "        <td>P5</td>\n",
       "        <td>400</td>\n",
       "    </tr>\n",
       "    <tr>\n",
       "        <td>J5</td>\n",
       "        <td>P3</td>\n",
       "        <td>600</td>\n",
       "    </tr>\n",
       "    <tr>\n",
       "        <td>J5</td>\n",
       "        <td>P5</td>\n",
       "        <td>500</td>\n",
       "    </tr>\n",
       "    <tr>\n",
       "        <td>J6</td>\n",
       "        <td>P3</td>\n",
       "        <td>400</td>\n",
       "    </tr>\n",
       "    <tr>\n",
       "        <td>J7</td>\n",
       "        <td>P3</td>\n",
       "        <td>800</td>\n",
       "    </tr>\n",
       "    <tr>\n",
       "        <td>J7</td>\n",
       "        <td>P5</td>\n",
       "        <td>100</td>\n",
       "    </tr>\n",
       "    <tr>\n",
       "        <td>J7</td>\n",
       "        <td>P6</td>\n",
       "        <td>300</td>\n",
       "    </tr>\n",
       "</table>"
      ],
      "text/plain": [
       "[('J1', 'P1', 200),\n",
       " ('J1', 'P3', 600),\n",
       " ('J2', 'P2', 200),\n",
       " ('J2', 'P3', 200),\n",
       " ('J2', 'P4', 500),\n",
       " ('J2', 'P5', 100),\n",
       " ('J2', 'P6', 200),\n",
       " ('J3', 'P3', 200),\n",
       " ('J3', 'P6', 300),\n",
       " ('J4', 'P1', 1700),\n",
       " ('J4', 'P2', 100),\n",
       " ('J4', 'P3', 1700),\n",
       " ('J4', 'P4', 800),\n",
       " ('J4', 'P5', 400),\n",
       " ('J5', 'P3', 600),\n",
       " ('J5', 'P5', 500),\n",
       " ('J6', 'P3', 400),\n",
       " ('J7', 'P3', 800),\n",
       " ('J7', 'P5', 100),\n",
       " ('J7', 'P6', 300)]"
      ]
     },
     "execution_count": 136,
     "metadata": {},
     "output_type": "execute_result"
    }
   ],
   "source": [
    "%%sql\n",
    "\n",
    "Select spj.\"J#\", spj.\"P#\", sum(spj.QTY)\n",
    "From SPJ as 'spj'\n",
    "GROUP BY spj.\"P#\", spj.\"J#\"\n",
    "ORDER BY spj.\"J#\";"
   ]
  },
  {
   "cell_type": "markdown",
   "metadata": {},
   "source": [
    "**14)** Get the project number for all projects that use the parts supplied by more \n",
    "than one supplier."
   ]
  },
  {
   "cell_type": "code",
   "execution_count": 132,
   "metadata": {
    "collapsed": false
   },
   "outputs": [
    {
     "name": "stdout",
     "output_type": "stream",
     "text": [
      "Done.\n"
     ]
    },
    {
     "data": {
      "text/html": [
       "<table>\n",
       "    <tr>\n",
       "        <th>J#</th>\n",
       "    </tr>\n",
       "    <tr>\n",
       "        <td>J1</td>\n",
       "    </tr>\n",
       "    <tr>\n",
       "        <td>J4</td>\n",
       "    </tr>\n",
       "</table>"
      ],
      "text/plain": [
       "[('J1',), ('J4',)]"
      ]
     },
     "execution_count": 132,
     "metadata": {},
     "output_type": "execute_result"
    }
   ],
   "source": [
    "%%sql\n",
    "Select j.\"J#\"\n",
    "From (Select spj.\"J#\", spj.\"P#\", count(spj.\"S#\") as 'cnt'\n",
    "      From SPJ spj\n",
    "      GROUP BY spj.\"P#\", spj.\"J#\"\n",
    "      ORDER BY spj.\"J#\") as 't1', J as 'j'\n",
    "Where j.\"J#\" = t1.\"J#\" and t1.cnt > 1\n",
    "GROUP BY j.\"J#\";"
   ]
  },
  {
   "cell_type": "markdown",
   "metadata": {},
   "source": [
    "**15)** For all parts such that the quantity supplied is greater than 100, get the \n",
    "project  number,  supplier  number  and  the  maximum  quantity  of  the  part  supplied  to  the  project  and  by  the  supplier;  and  order  the  result  by  ascending project number and supplier number."
   ]
  },
  {
   "cell_type": "code",
   "execution_count": 133,
   "metadata": {
    "collapsed": false
   },
   "outputs": [
    {
     "name": "stdout",
     "output_type": "stream",
     "text": [
      "Done.\n"
     ]
    },
    {
     "data": {
      "text/html": [
       "<table>\n",
       "    <tr>\n",
       "        <th>P#</th>\n",
       "        <th>J#</th>\n",
       "        <th>S#</th>\n",
       "        <th>Max QTY</th>\n",
       "    </tr>\n",
       "    <tr>\n",
       "        <td>P1</td>\n",
       "        <td>J4</td>\n",
       "        <td>S5</td>\n",
       "        <td>1000</td>\n",
       "    </tr>\n",
       "    <tr>\n",
       "        <td>P2</td>\n",
       "        <td>J2</td>\n",
       "        <td>S5</td>\n",
       "        <td>200</td>\n",
       "    </tr>\n",
       "    <tr>\n",
       "        <td>P3</td>\n",
       "        <td>J4</td>\n",
       "        <td>S5</td>\n",
       "        <td>1200</td>\n",
       "    </tr>\n",
       "    <tr>\n",
       "        <td>P4</td>\n",
       "        <td>J4</td>\n",
       "        <td>S5</td>\n",
       "        <td>800</td>\n",
       "    </tr>\n",
       "    <tr>\n",
       "        <td>P5</td>\n",
       "        <td>J5</td>\n",
       "        <td>S5</td>\n",
       "        <td>500</td>\n",
       "    </tr>\n",
       "    <tr>\n",
       "        <td>P6</td>\n",
       "        <td>J3</td>\n",
       "        <td>S4</td>\n",
       "        <td>300</td>\n",
       "    </tr>\n",
       "</table>"
      ],
      "text/plain": [
       "[('P1', 'J4', 'S5', 1000),\n",
       " ('P2', 'J2', 'S5', 200),\n",
       " ('P3', 'J4', 'S5', 1200),\n",
       " ('P4', 'J4', 'S5', 800),\n",
       " ('P5', 'J5', 'S5', 500),\n",
       " ('P6', 'J3', 'S4', 300)]"
      ]
     },
     "execution_count": 133,
     "metadata": {},
     "output_type": "execute_result"
    }
   ],
   "source": [
    "%%sql\n",
    "Select spj2.\"P#\" as\"P#\", spj2.\"J#\" as\"J#\", spj2.\"S#\" as \"S#\",MAX(spj2.\"QTY\") as \"Max QTY\"\n",
    "From (\n",
    "    Select *\n",
    "    From (Select * From SPJ as 'spj1' Where spj1.QTY>100 ) \n",
    ") as 'spj2'\n",
    "Group by spj2.\"P#\";"
   ]
  },
  {
   "cell_type": "markdown",
   "metadata": {},
   "source": [
    "**16)** Get the supplier number and sum of quantity of parts supplied to two projects \"`J1`\" and \"`J2`\" by supplier showing the results for all suppliers regardless whether the suppliers supply the part to the project or not"
   ]
  },
  {
   "cell_type": "code",
   "execution_count": 135,
   "metadata": {
    "collapsed": false
   },
   "outputs": [
    {
     "name": "stdout",
     "output_type": "stream",
     "text": [
      "Done.\n"
     ]
    },
    {
     "data": {
      "text/html": [
       "<table>\n",
       "    <tr>\n",
       "        <th>S#</th>\n",
       "        <th>QTY</th>\n",
       "    </tr>\n",
       "    <tr>\n",
       "        <td>S1</td>\n",
       "        <td>None</td>\n",
       "    </tr>\n",
       "    <tr>\n",
       "        <td>S2</td>\n",
       "        <td>600</td>\n",
       "    </tr>\n",
       "    <tr>\n",
       "        <td>S3</td>\n",
       "        <td>200</td>\n",
       "    </tr>\n",
       "    <tr>\n",
       "        <td>S4</td>\n",
       "        <td>None</td>\n",
       "    </tr>\n",
       "    <tr>\n",
       "        <td>S5</td>\n",
       "        <td>None</td>\n",
       "    </tr>\n",
       "</table>"
      ],
      "text/plain": [
       "[('S1', None), ('S2', 600), ('S3', 200), ('S4', None), ('S5', None)]"
      ]
     },
     "execution_count": 135,
     "metadata": {},
     "output_type": "execute_result"
    }
   ],
   "source": [
    "%%sql\n",
    "-- sa:t3 a t2 \n",
    "Select t3.\"S#\", t2.QTY\n",
    "From S as 't3' \n",
    "LEFT OUTER JOIN (Select s.\"S#\", t1.sumQTY as QTY\n",
    "                 From S as 's' , \n",
    "                     (Select spj.\"P#\", count(spj.\"P#\") as 'cnt'\n",
    "                      From SPJ as 'spj'\n",
    "                      Where spj.\"J#\"='J1' or spj.\"J#\"='J2'\n",
    "                      GROUP BY spj.\"P#\"ORDER BY spj.\"P#\") as 'cntT', \n",
    "                     (Select spj.\"P#\", spj.\"S#\", sum(spj.QTY) as sumQTY\n",
    "                      From SPJ as 'spj'\n",
    "                      Where spj.\"J#\"='J1' or spj.\"J#\"='J2'\n",
    "                      Group by spj.\"P#\", spj.\"S#\"\n",
    "                      Order by spj.\"P#\", spj.\"S#\") as 't1'\n",
    "                 Where (cntT.cnt > 1 and cntT.\"P#\" = t1.\"P#\" and s.\"S#\" = t1.\"S#\")) as 't2' ON t3.\"S#\" = t2.\"S#\";"
   ]
  }
 ],
 "metadata": {
  "kernelspec": {
   "display_name": "Python 3",
   "language": "python",
   "name": "python3"
  },
  "language_info": {
   "codemirror_mode": {
    "name": "ipython",
    "version": 3
   },
   "file_extension": ".py",
   "mimetype": "text/x-python",
   "name": "python",
   "nbconvert_exporter": "python",
   "pygments_lexer": "ipython3",
   "version": "3.6.0"
  }
 },
 "nbformat": 4,
 "nbformat_minor": 1
}
