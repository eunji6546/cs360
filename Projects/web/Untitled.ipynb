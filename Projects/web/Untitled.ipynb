{
 "cells": [
  {
   "cell_type": "code",
   "execution_count": 3,
   "metadata": {
    "collapsed": false
   },
   "outputs": [
    {
     "name": "stdout",
     "output_type": "stream",
     "text": [
      "The sql extension is already loaded. To reload it, use:\n",
      "  %reload_ext sql\n",
      "Done.\n"
     ]
    },
    {
     "data": {
      "text/html": [
       "<table>\n",
       "    <tr>\n",
       "        <th>type</th>\n",
       "        <th>name</th>\n",
       "        <th>tbl_name</th>\n",
       "        <th>rootpage</th>\n",
       "        <th>sql</th>\n",
       "    </tr>\n",
       "    <tr>\n",
       "        <td>table</td>\n",
       "        <td>Time</td>\n",
       "        <td>Time</td>\n",
       "        <td>9816</td>\n",
       "        <td>CREATE TABLE Time(currtime string PRIMARY KEY)</td>\n",
       "    </tr>\n",
       "    <tr>\n",
       "        <td>table</td>\n",
       "        <td>Item</td>\n",
       "        <td>Item</td>\n",
       "        <td>8</td>\n",
       "        <td>CREATE TABLE Item (itemID string PRIMARY KEY, name string, currently string, <br>\tbuy_price string, first_bid string, started string, ends string, <br>\tuserID string references User, description string)</td>\n",
       "    </tr>\n",
       "    <tr>\n",
       "        <td>table</td>\n",
       "        <td>User</td>\n",
       "        <td>User</td>\n",
       "        <td>12</td>\n",
       "        <td>CREATE TABLE User (userID string PRIMARY KEY, rating string, location string, country string)</td>\n",
       "    </tr>\n",
       "    <tr>\n",
       "        <td>table</td>\n",
       "        <td>Category</td>\n",
       "        <td>Category</td>\n",
       "        <td>869</td>\n",
       "        <td>CREATE TABLE Category (itemID string references Item, category string, PRIMARY KEY (itemID, category))</td>\n",
       "    </tr>\n",
       "    <tr>\n",
       "        <td>table</td>\n",
       "        <td>Bid</td>\n",
       "        <td>Bid</td>\n",
       "        <td>1000</td>\n",
       "        <td>CREATE TABLE Bid (itemID string references Item, userID string references User, time string, amount string, PRIMARY KEY (itemID,time))</td>\n",
       "    </tr>\n",
       "</table>"
      ],
      "text/plain": [
       "[('table', 'Time', 'Time', 9816, 'CREATE TABLE Time(currtime string PRIMARY KEY)'),\n",
       " ('table', 'Item', 'Item', 8, 'CREATE TABLE Item (itemID string PRIMARY KEY, name string, currently string, \\n\\tbuy_price string, first_bid string, started string, ends string, \\n\\tuserID string references User, description string)'),\n",
       " ('table', 'User', 'User', 12, 'CREATE TABLE User (userID string PRIMARY KEY, rating string, location string, country string)'),\n",
       " ('table', 'Category', 'Category', 869, 'CREATE TABLE Category (itemID string references Item, category string, PRIMARY KEY (itemID, category))'),\n",
       " ('table', 'Bid', 'Bid', 1000, 'CREATE TABLE Bid (itemID string references Item, userID string references User, time string, amount string, PRIMARY KEY (itemID,time))')]"
      ]
     },
     "execution_count": 3,
     "metadata": {},
     "output_type": "execute_result"
    }
   ],
   "source": [
    "%load_ext sql\n",
    "%sql sqlite:///auctionDB.db\n",
    "%sql SELECT * FROM sqlite_master WHERE type = 'table';\n"
   ]
  }
 ],
 "metadata": {
  "kernelspec": {
   "display_name": "Python 3",
   "language": "python",
   "name": "python3"
  },
  "language_info": {
   "codemirror_mode": {
    "name": "ipython",
    "version": 3
   },
   "file_extension": ".py",
   "mimetype": "text/x-python",
   "name": "python",
   "nbconvert_exporter": "python",
   "pygments_lexer": "ipython3",
   "version": "3.6.0"
  }
 },
 "nbformat": 4,
 "nbformat_minor": 2
}
